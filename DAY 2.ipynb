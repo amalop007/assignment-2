{
 "cells": [
  {
   "cell_type": "markdown",
   "metadata": {},
   "source": [
    "# QUESTION 1"
   ]
  },
  {
   "cell_type": "code",
   "execution_count": 1,
   "metadata": {},
   "outputs": [
    {
     "name": "stdout",
     "output_type": "stream",
     "text": [
      "4\n",
      "{1: 1} {2: 4} {3: 9} {4: 16} "
     ]
    }
   ],
   "source": [
    "n=int(input())\n",
    "i=1\n",
    "while i<=n:\n",
    "    d={i:i*i}\n",
    "    print(d,end=\" \") \n",
    "    i=i+1"
   ]
  },
  {
   "cell_type": "markdown",
   "metadata": {},
   "source": [
    "# QUESTION 2"
   ]
  },
  {
   "cell_type": "raw",
   "metadata": {},
   "source": [
    "CREATED A NOTEBOOK ON LIST COMPREHENSION"
   ]
  },
  {
   "cell_type": "markdown",
   "metadata": {},
   "source": [
    "# QUESTION 3"
   ]
  },
  {
   "cell_type": "code",
   "execution_count": 2,
   "metadata": {},
   "outputs": [
    {
     "name": "stdout",
     "output_type": "stream",
     "text": [
      "1\n",
      "23\n",
      "4\n",
      "[4]\n",
      "6\n",
      "[4, 6]\n",
      "8\n",
      "[4, 6, 8]\n",
      "90\n",
      "[4, 6, 8, 90]\n",
      "5\n",
      "67\n",
      "78\n",
      "[4, 6, 8, 90, 78]\n",
      "332\n",
      "[4, 6, 8, 90, 78, 332]\n"
     ]
    }
   ],
   "source": [
    "l=[]\n",
    "def even():\n",
    "    n=int(input(\"\"))\n",
    "    if n%2==0:\n",
    "        l.append(n)\n",
    "        print(l)\n",
    "for i in range(10):\n",
    "    even()"
   ]
  },
  {
   "cell_type": "markdown",
   "metadata": {},
   "source": [
    "# QUESTION 4"
   ]
  },
  {
   "cell_type": "code",
   "execution_count": 4,
   "metadata": {},
   "outputs": [
    {
     "name": "stdout",
     "output_type": "stream",
     "text": [
      "4\n",
      "UP 5\n",
      "DOWN 4\n",
      "LEFT 2\n",
      "RIGHT 3\n",
      "1\n"
     ]
    }
   ],
   "source": [
    "import math\n",
    "n=int(input())\n",
    "robo=[]\n",
    "num1=0\n",
    "num2=0\n",
    "for x in range(n):\n",
    "    d,s=input().split()\n",
    "    if(d==\"UP\"):\n",
    "        num2=num2+int(s)\n",
    "    if(d==\"DOWN\"):\n",
    "        num2=num2-int(s)\n",
    "    if(d==\"LEFT\"):\n",
    "        num1=num1-int(s)\n",
    "    if(d==\"RIGHT\"):\n",
    "        num1=num1+int(s)\n",
    "print(round(math.sqrt(num1*num1+num2*num2)))      \n",
    "   "
   ]
  },
  {
   "cell_type": "code",
   "execution_count": null,
   "metadata": {},
   "outputs": [],
   "source": []
  }
 ],
 "metadata": {
  "kernelspec": {
   "display_name": "Python 3",
   "language": "python",
   "name": "python3"
  },
  "language_info": {
   "codemirror_mode": {
    "name": "ipython",
    "version": 3
   },
   "file_extension": ".py",
   "mimetype": "text/x-python",
   "name": "python",
   "nbconvert_exporter": "python",
   "pygments_lexer": "ipython3",
   "version": "3.8.3"
  }
 },
 "nbformat": 4,
 "nbformat_minor": 4
}
